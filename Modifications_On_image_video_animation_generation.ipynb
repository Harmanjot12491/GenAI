{
  "cells": [
    {
      "cell_type": "markdown",
      "metadata": {
        "id": "view-in-github",
        "colab_type": "text"
      },
      "source": [
        "<a href=\"https://colab.research.google.com/github/Harmanjot12491/GenAI/blob/main/Modifications_On_image_video_animation_generation.ipynb\" target=\"_parent\"><img src=\"https://colab.research.google.com/assets/colab-badge.svg\" alt=\"Open In Colab\"/></a>"
      ]
    },
    {
      "cell_type": "markdown",
      "source": [
        "# Title of the Project\n",
        "# Replicate-based AI Content Generation\n",
        "\n",
        "## Project Description\n",
        "This project aims to explore the capabilities of the Replicate platform for AI content generation. We will utilize pre-trained models to generate images and videos, demonstrating the potential applications of Replicate in creative projects.\n",
        "\n",
        "\n",
        "\n",
        "---\n",
        "\n",
        "# Group Members\n",
        "\n",
        "1. **Member 1**\n",
        "   - ID: 4349086\n",
        "   - Name: Harmanjot Kaur\n",
        "\n",
        "2. **Member 2**\n",
        "   - ID: 4344594\n",
        "   - Name: Hardeep Kaur\n",
        "\n",
        "---\n",
        "\n",
        "# Detailed Project Description\n",
        "\n",
        "In this project, we will provide an in-depth analysis of the Replicate platform's functionalities. We will explore the generation of images and videos using different models available on Replicate. The objectives include understanding the model's capabilities, assessing the quality of generated content, and identifying potential use cases.\n",
        "\n",
        "## Objectives and Expected Outcomes\n",
        "- Analyze the stability-ai/stable-diffusion model for image generation.\n",
        "- Explore and compare different prompts for generating diverse content.\n",
        "- Utilize the andreasjansson/stable-diffusion-animation model for video/gif generation.\n",
        "- Evaluate the quality and diversity of generated content.\n",
        "\n",
        "\n",
        "\n",
        "---\n",
        "\n",
        "# Modification/New Addition Specification\n",
        "\n",
        "In this phase, we will discuss modifications and additions to the original project:\n",
        "\n",
        "## Changes Made\n",
        "1. **Enhanced Prompts**: We refined the prompts used for content generation to achieve more specific and diverse results.\n",
        "2. **Integration of Animation Model**: We introduced the andreasjansson/stable-diffusion-animation model for creating animated content.\n",
        "\n",
        "## Justification\n",
        "1. **Improved Content Quality**: The refined prompts aim to enhance the quality and relevance of generated images.\n",
        "2. **Diversification with Animation**: The addition of the animation model provides a new dimension to the project, showcasing dynamic content generation capabilities.\n",
        "\n",
        "\n",
        "\n",
        "---\n",
        "\n",
        "# Criteria-Specific Details\n",
        "\n",
        "## GenAI\n",
        "- **Relevance and Application**: We will assess the relevance of generated content to the input prompts and explore practical applications in creative projects.\n",
        "- **Innovation and Technical Proficiency**: We will evaluate the innovative use of Replicate models and the technical proficiency in generating high-quality AI content.\n",
        "\n",
        "\n",
        "---\n",
        "\n",
        "# Reference\n",
        "\n",
        "1. Replicate Documentation: (n.d.). Replicate. https://replicate.com/docs/get-started/python\n",
        "2. Google Colaboratory. (n.d.). https://colab.research.google.com/drive/1-7QeW2EQPggRwT0ddmwqwT5veM09xtQW?usp=sharing\n",
        "3. andreasjansson/stable-diffusion-animation – Replicate. (n.d.). https://replicate.com/andreasjansson/stable-diffusion-animation/api?tab=nodejs\n",
        "#Video Presentation\n",
        "* [link]\n"
      ],
      "metadata": {
        "id": "M49lstKso4R4"
      }
    },
    {
      "cell_type": "markdown",
      "source": [
        "\n",
        "\n",
        "---\n",
        "\n"
      ],
      "metadata": {
        "id": "YRa9GH5gWwbr"
      }
    },
    {
      "cell_type": "markdown",
      "source": [
        "##1.This cell installs the replicate library using the pip package manager. The library is essential for running models and generating content through the Replicate platform."
      ],
      "metadata": {
        "id": "03xL0Alon2h6"
      }
    },
    {
      "cell_type": "code",
      "execution_count": 10,
      "metadata": {
        "colab": {
          "base_uri": "https://localhost:8080/"
        },
        "id": "K-f4rzIDbk8n",
        "outputId": "369257c8-2e39-435d-9fab-f9e136eb8636"
      },
      "outputs": [
        {
          "output_type": "stream",
          "name": "stdout",
          "text": [
            "Requirement already satisfied: replicate in /usr/local/lib/python3.10/dist-packages (0.21.0)\n",
            "Requirement already satisfied: httpx<1,>=0.21.0 in /usr/local/lib/python3.10/dist-packages (from replicate) (0.25.2)\n",
            "Requirement already satisfied: packaging in /usr/local/lib/python3.10/dist-packages (from replicate) (23.2)\n",
            "Requirement already satisfied: pydantic>1 in /usr/local/lib/python3.10/dist-packages (from replicate) (1.10.13)\n",
            "Requirement already satisfied: typing-extensions>=4.5.0 in /usr/local/lib/python3.10/dist-packages (from replicate) (4.5.0)\n",
            "Requirement already satisfied: anyio in /usr/local/lib/python3.10/dist-packages (from httpx<1,>=0.21.0->replicate) (3.7.1)\n",
            "Requirement already satisfied: certifi in /usr/local/lib/python3.10/dist-packages (from httpx<1,>=0.21.0->replicate) (2023.11.17)\n",
            "Requirement already satisfied: httpcore==1.* in /usr/local/lib/python3.10/dist-packages (from httpx<1,>=0.21.0->replicate) (1.0.2)\n",
            "Requirement already satisfied: idna in /usr/local/lib/python3.10/dist-packages (from httpx<1,>=0.21.0->replicate) (3.6)\n",
            "Requirement already satisfied: sniffio in /usr/local/lib/python3.10/dist-packages (from httpx<1,>=0.21.0->replicate) (1.3.0)\n",
            "Requirement already satisfied: h11<0.15,>=0.13 in /usr/local/lib/python3.10/dist-packages (from httpcore==1.*->httpx<1,>=0.21.0->replicate) (0.14.0)\n",
            "Requirement already satisfied: exceptiongroup in /usr/local/lib/python3.10/dist-packages (from anyio->httpx<1,>=0.21.0->replicate) (1.2.0)\n"
          ]
        }
      ],
      "source": [
        "# @title Install Replicate\n",
        "!pip install replicate"
      ]
    },
    {
      "cell_type": "markdown",
      "source": [
        "##2. In this cell, you set up your Replicate API token for authentication. The API token is obtained from your Replicate account. This token allows your Colab notebook to interact with the Replicate platform."
      ],
      "metadata": {
        "id": "sFTSpliVoGgA"
      }
    },
    {
      "cell_type": "code",
      "execution_count": 11,
      "metadata": {
        "id": "cFmhr3PSf4G2"
      },
      "outputs": [],
      "source": [
        "API = \"r8_6SvKRg4a2SkOc9sAdUvvwHW9Lw3cB4b1s5vl5\"\n",
        "import os\n",
        "\n",
        "os.environ[\"REPLICATE_API_TOKEN\"] = API #find it here: https://replicate.com/signin?next=/account/api-tokens\n"
      ]
    },
    {
      "cell_type": "markdown",
      "source": [
        "##3. This cell generates an image using the Replicate platform. It specifies a prompt (\"wearing a VR headset\") and uses the replicate.run function with a pre-trained model (stability-ai/stable-diffusion:27b93a2413e7f36cd83da926f3656280b2931564ff050bf9575f1fdf9bcd7478). The output is stored in the output variable."
      ],
      "metadata": {
        "id": "99b2KkrToOPY"
      }
    },
    {
      "cell_type": "code",
      "execution_count": 12,
      "metadata": {
        "colab": {
          "base_uri": "https://localhost:8080/"
        },
        "id": "0zz83wA6cqSF",
        "outputId": "f512423a-b3d4-4be3-8228-c8c6afd6bcd6"
      },
      "outputs": [
        {
          "output_type": "execute_result",
          "data": {
            "text/plain": [
              "['https://replicate.delivery/pbxt/8xTdT0I7DuJ2IVF9eBmqnkegBSSUCjpYe8Be571KpcedYFyPC/out-0.png']"
            ]
          },
          "metadata": {},
          "execution_count": 12
        }
      ],
      "source": [
        "# @title Generate Image\n",
        "prompt = \"wearing a VR headset\"\n",
        "import replicate\n",
        "\n",
        "output = replicate.run(\n",
        "  \"stability-ai/stable-diffusion:27b93a2413e7f36cd83da926f3656280b2931564ff050bf9575f1fdf9bcd7478\",\n",
        "  input={\"prompt\":prompt}\n",
        ")\n",
        "\n",
        "output"
      ]
    },
    {
      "cell_type": "markdown",
      "source": [
        "##4. This cell displays the generated image using the IPython Image class. The image URL is retrieved from the output variable obtained in the previous cell."
      ],
      "metadata": {
        "id": "0HNTesaHoSYo"
      }
    },
    {
      "cell_type": "code",
      "execution_count": 13,
      "metadata": {
        "colab": {
          "base_uri": "https://localhost:8080/",
          "height": 533
        },
        "id": "hwXEISnemCLj",
        "outputId": "9c10c1e6-3767-4dea-c9d7-ceacdd915259"
      },
      "outputs": [
        {
          "output_type": "execute_result",
          "data": {
            "text/html": [
              "<img src=\"https://replicate.delivery/pbxt/8xTdT0I7DuJ2IVF9eBmqnkegBSSUCjpYe8Be571KpcedYFyPC/out-0.png\"/>"
            ],
            "text/plain": [
              "<IPython.core.display.Image object>"
            ]
          },
          "metadata": {},
          "execution_count": 13
        }
      ],
      "source": [
        "\n",
        "from IPython.display import Image\n",
        "output_image = output\n",
        "Image(url=output_image[0])"
      ]
    },
    {
      "cell_type": "markdown",
      "source": [
        "##5. This cell generates a video or GIF animation using a different model (andreasjansson/stable-diffusion-animation:ca1f5e306e5721e19c473e0d094e6603f0456fe759c10715fcd6c1b79242d4a5). It specifies start and end prompts, output format (GIF), and the ping-pong effect. The output is stored in the output variable."
      ],
      "metadata": {
        "id": "tlvYwhh7oVq_"
      }
    },
    {
      "cell_type": "code",
      "execution_count": 14,
      "metadata": {
        "colab": {
          "base_uri": "https://localhost:8080/"
        },
        "id": "Misa5E4QiWNZ",
        "outputId": "4aaf90a0-1e0b-4635-ad5e-b6ae788c8a86"
      },
      "outputs": [
        {
          "output_type": "execute_result",
          "data": {
            "text/plain": [
              "<generator object Prediction.output_iterator at 0x7ee5003903c0>"
            ]
          },
          "metadata": {},
          "execution_count": 14
        }
      ],
      "source": [
        "# @title Video/gif/animation/Generation\n",
        "import replicate\n",
        "\n",
        "output = replicate.run(\n",
        "    \"andreasjansson/stable-diffusion-animation:ca1f5e306e5721e19c473e0d094e6603f0456fe759c10715fcd6c1b79242d4a5\",\n",
        "    input={\n",
        "        \"prompt_start\": \"wearing a VR headset\",\n",
        "        \"prompt_end\": \"Removing a VR headset\",\n",
        "        \"output_format\": \"gif\",\n",
        "        \"gif_ping_pong\": True\n",
        "    }\n",
        ")\n",
        "\n",
        "output\n"
      ]
    },
    {
      "cell_type": "markdown",
      "source": [
        "## 6. This cell prints the link to the generated video. The link is obtained from the output variable and can be used to access the video."
      ],
      "metadata": {
        "id": "kNNm0SY7oY1P"
      }
    },
    {
      "cell_type": "code",
      "execution_count": 15,
      "metadata": {
        "colab": {
          "base_uri": "https://localhost:8080/"
        },
        "id": "BB0LZJTyjA7Z",
        "outputId": "591f1ab8-e5dc-4085-dcea-3a58173888f4"
      },
      "outputs": [
        {
          "output_type": "stream",
          "name": "stdout",
          "text": [
            "https://replicate.delivery/pbxt/Ac6QG3jfgwUrHqE7OIC7XqWVVqfyLTxcw9pMefK6fkBH9FyPC/video.gif\n"
          ]
        }
      ],
      "source": [
        "# @title generate video\n",
        "for item in output:\n",
        "     #https://replicate.com/andreasjansson/stable-diffusion-animation/versions/ca1f5e306e5721e19c473e0d094e6603f0456fe759c10715fcd6c1b79242d4a5/api#output-schema\n",
        "    print(item)"
      ]
    },
    {
      "cell_type": "markdown",
      "source": [
        "## 7. This cell extracts the URL of the generated video for further use within the Colab notebook."
      ],
      "metadata": {
        "id": "w6fZwjtKoggI"
      }
    },
    {
      "cell_type": "code",
      "execution_count": 16,
      "metadata": {
        "id": "fuPgsixhkxM4"
      },
      "outputs": [],
      "source": [
        "# @title get the video on colab\n",
        "gif_url= item[0:len(item)]"
      ]
    },
    {
      "cell_type": "markdown",
      "source": [
        " ## 8. This cell fetches the generated video, displays it in the notebook, saves it locally as \"gif_output.gif\", and opens the saved GIF using the PIL library. If fetching the GIF fails, a message is printed."
      ],
      "metadata": {
        "id": "Hmz6QKmwUmw6"
      }
    },
    {
      "cell_type": "code",
      "execution_count": 17,
      "metadata": {
        "colab": {
          "base_uri": "https://localhost:8080/",
          "height": 533
        },
        "id": "6VPPvsE3km93",
        "outputId": "646e7ebc-3135-4026-c17b-c8f46d5d1567"
      },
      "outputs": [
        {
          "output_type": "display_data",
          "data": {
            "text/html": [
              "<img src=\"https://replicate.delivery/pbxt/Ac6QG3jfgwUrHqE7OIC7XqWVVqfyLTxcw9pMefK6fkBH9FyPC/video.gif\"/>"
            ],
            "text/plain": [
              "<IPython.core.display.Image object>"
            ]
          },
          "metadata": {}
        }
      ],
      "source": [
        "# @title Show the video\n",
        "import requests\n",
        "from IPython.display import display, Image\n",
        "from PIL import Image as PILImage\n",
        "from io import BytesIO\n",
        "response = requests.get(gif_url)\n",
        "if response.status_code == 200:\n",
        "    # Display the GIF in the notebook\n",
        "    display(Image(url=gif_url))\n",
        "\n",
        "    # Save the GIF in the Colab environment\n",
        "    with open(\"gif_output.gif\", \"wb\") as f:\n",
        "        f.write(response.content)\n",
        "\n",
        "    # Show a saved GIF using PIL\n",
        "    saved_gif = PILImage.open(\"gif_output.gif\")\n",
        "    saved_gif.show()\n",
        "else:\n",
        "    print(\"Failed to fetch GIF\")\n"
      ]
    },
    {
      "cell_type": "markdown",
      "source": [
        "# Thank you"
      ],
      "metadata": {
        "id": "LX6Dmm0EV0DT"
      }
    }
  ],
  "metadata": {
    "colab": {
      "provenance": [],
      "include_colab_link": true
    },
    "kernelspec": {
      "display_name": "Python 3",
      "name": "python3"
    },
    "language_info": {
      "name": "python"
    }
  },
  "nbformat": 4,
  "nbformat_minor": 0
}